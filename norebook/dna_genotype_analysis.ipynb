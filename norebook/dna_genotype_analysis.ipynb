{
 "cells": [
  {
   "cell_type": "markdown",
   "id": "258c221b",
   "metadata": {},
   "source": [
    "\n",
    "# DNA Sequence Classification with BERT\n",
    "\n",
    "In this notebook, we will classify DNA sequences using a BERT-based model. We will load the data, preprocess it into k-mers, and train the model on the dataset.\n"
   ]
  },
  {
   "cell_type": "code",
   "execution_count": null,
   "id": "6c8cdaa0",
   "metadata": {},
   "outputs": [],
   "source": [
    "# Import necessary libraries\n",
    "import pandas as pd\n",
    "from Bio import SeqIO\n",
    "import gzip\n",
    "import ftplib\n",
    "import os\n",
    "import torch\n",
    "import torch.nn as nn\n",
    "import torch.optim as optim\n",
    "from sklearn.model_selection import train_test_split\n",
    "from torch.utils.data import DataLoader, Dataset\n",
    "import matplotlib.pyplot as plt\n",
    "import numpy as np\n"
   ]
  },
  {
   "cell_type": "markdown",
   "id": "9ab01cba",
   "metadata": {},
   "source": [
    "## 1. Function to Download DNA Sequences from FTP\n",
    "\n",
    "This section defines a function to download DNA sequences from provided FTP links.\n"
   ]
  },
  {
   "cell_type": "code",
   "execution_count": null,
   "id": "0aac7232",
   "metadata": {},
   "outputs": [],
   "source": [
    "def download_fasta(ftp_url):\n",
    "    \"\"\"Downloads a FASTA file from the given FTP URL.\"\"\"\n",
    "    try:\n",
    "        # Parse the FTP URL\n",
    "        url_parts = ftp_url.split(\"/\")\n",
    "        host = url_parts[2]\n",
    "        filepath = \"/\".join(url_parts[3:])\n",
    "        \n",
    "        # Connect to the FTP server\n",
    "        ftp = ftplib.FTP(host)\n",
    "        ftp.login()  # Login anonymously\n",
    "\n",
    "        # Download the file\n",
    "        local_filename = os.path.basename(filepath)\n",
    "        with open(local_filename, 'wb') as f:\n",
    "            ftp.retrbinary(f\"RETR {filepath}\", f.write)\n",
    "\n",
    "        ftp.quit()\n",
    "        return local_filename\n",
    "    except Exception as e:\n",
    "        print(f\"Failed to download {ftp_url}: {e}\")\n",
    "        return None\n"
   ]
  },
  {
   "cell_type": "markdown",
   "id": "52e563cd",
   "metadata": {},
   "source": [
    "## 2. Load the Metadata File\n",
    "\n",
    "In this section, we load the DNA sequence metadata from a tab-delimited text file and display its contents.\n"
   ]
  },
  {
   "cell_type": "code",
   "execution_count": null,
   "id": "f2eb49e3",
   "metadata": {},
   "outputs": [],
   "source": [
    "# Read the metadata from the text file\n",
    "input_file = 'E-MTAB-5530.sdrf.txt'  # Path to your input text file\n",
    "df = pd.read_csv(input_file, sep=\"\\t\")\n",
    "\n",
    "# Display the first few rows of the DataFrame\n",
    "df.head()\n"
   ]
  },
  {
   "cell_type": "markdown",
   "id": "09d9c2e6",
   "metadata": {},
   "source": [
    "## 3. Save Metadata to CSV\n",
    "\n",
    "We will save the loaded metadata DataFrame to a CSV file.\n"
   ]
  },
  {
   "cell_type": "code",
   "execution_count": null,
   "id": "8f5c94c1",
   "metadata": {},
   "outputs": [],
   "source": [
    "# Save the DataFrame df as a CSV file\n",
    "output_file = 'output.csv'  # Specify your desired output filename\n",
    "df.to_csv(output_file, index=False)  # Save without row index\n"
   ]
  },
  {
   "cell_type": "markdown",
   "id": "e9cd05c4",
   "metadata": {},
   "source": [
    "## 4. Download and Process DNA Sequences\n",
    "\n",
    "For each row in the metadata, we download the DNA sequences using the provided FTP links.\n"
   ]
  },
  {
   "cell_type": "code",
   "execution_count": null,
   "id": "a354c3c7",
   "metadata": {},
   "outputs": [],
   "source": [
    "# Prepare to open the CSV file for writing\n",
    "output_file = \"dna_sequences.csv\"  # Output file name\n",
    "with open(output_file, 'w') as out_csv:\n",
    "    # Write header for the CSV file\n",
    "    out_csv.write(\"seq,organism_part\\n\")\n",
    "\n",
    "    # Iterate through the rows of the DataFrame\n",
    "    for index, row in df.iterrows():\n",
    "        ftp_url_1 = row['Comment[FASTQ_URI]']\n",
    "        ftp_url_2 = ftp_url_1.replace(\"_1.\", \"_2.\")  # Handle paired-end read\n",
    "        \n",
    "        print('ftp_url_2:', ftp_url_2)\n",
    "\n",
    "        # Download DNA sequences from the FTP URLs\n",
    "        for ftp_url in [ftp_url_1, ftp_url_2]:\n",
    "            local_file = download_fasta(ftp_url)\n",
    "            \n",
    "            if local_file:\n",
    "                # Read the downloaded FASTQ file\n",
    "                with gzip.open(local_file, 'rt') as f:\n",
    "                    for record in SeqIO.parse(f, \"fastq\"):\n",
    "                        # Print the sequence\n",
    "                        print(f\"Read DNA Sequence: {record.seq}\")\n",
    "\n",
    "                        # Write to CSV immediately\n",
    "                        out_csv.write(f\"{record.seq},{row['Characteristics[organism part]']}\\n\")\n",
    "                        \n",
    "                # Clean up the local file\n",
    "                os.remove(local_file)\n",
    "\n",
    "print(f\"DNA sequences and organism parts saved to {output_file}.\")\n"
   ]
  },
  {
   "cell_type": "markdown",
   "id": "870c41ad",
   "metadata": {},
   "source": [
    "## 5. Define the Dataset and DataLoader\n",
    "\n",
    "In this section, we define a custom dataset and dataloader for training the model.\n"
   ]
  },
  {
   "cell_type": "code",
   "execution_count": null,
   "id": "53fd6fc4",
   "metadata": {},
   "outputs": [],
   "source": [
    "class SequenceDataset(Dataset):\n",
    "    \"\"\"Custom dataset for loading DNA sequences and labels.\"\"\"\n",
    "    \n",
    "    def __init__(self, csv_file):\n",
    "        self.data = pd.read_csv(csv_file)\n",
    "    \n",
    "    def __len__(self):\n",
    "        return len(self.data)\n",
    "    \n",
    "    def __getitem__(self, idx):\n",
    "        sequence = self.data.iloc[idx, 0]  # DNA sequence\n",
    "        label = self.data.iloc[idx, 1]      # Organism part\n",
    "        return sequence, label\n",
    "\n",
    "# Initialize the dataset and dataloader\n",
    "dataset = SequenceDataset(output_file)\n",
    "train_size = int(0.8 * len(dataset))\n",
    "test_size = len(dataset) - train_size\n",
    "train_dataset, test_dataset = torch.utils.data.random_split(dataset, [train_size, test_size])\n",
    "train_loader = DataLoader(train_dataset, batch_size=32, shuffle=True)\n",
    "test_loader = DataLoader(test_dataset, batch_size=32, shuffle=False)\n"
   ]
  },
  {
   "cell_type": "markdown",
   "id": "744725e7",
   "metadata": {},
   "source": [
    "## 6. Define the Model\n",
    "\n"
   ]
  },
  {
   "cell_type": "code",
   "execution_count": null,
   "id": "7dd88403",
   "metadata": {},
   "outputs": [],
   "source": [
    "# Define the Dataset class for DNA sequences\n",
    "class DNASequenceDataset(Dataset):\n",
    "    \"\"\"\n",
    "    Dataset class for handling DNA sequences for classification.\n",
    "    \"\"\"\n",
    "    def __init__(self, sequences, labels, tokenizer, k):\n",
    "        self.sequences = sequences\n",
    "        self.labels = labels\n",
    "        self.tokenizer = tokenizer\n",
    "        self.k = k\n",
    "\n",
    "    def __len__(self):\n",
    "        return len(self.sequences)\n",
    "\n",
    "    def __getitem__(self, idx):\n",
    "        \"\"\"\n",
    "        Get item from dataset by index.\n",
    "        \"\"\"\n",
    "        sequence = self.sequences[idx]\n",
    "        # Tokenize the sequence into k-mers\n",
    "        kmers = [sequence[i:i+self.k] for i in range(len(sequence) - self.k + 1)]\n",
    "        kmers_str = \" \".join(kmers)\n",
    "        encoded = self.tokenizer(kmers_str, padding='max_length', truncation=True, max_length=512, return_tensors='pt')\n",
    "        label = torch.tensor(self.labels[idx], dtype=torch.long)\n",
    "        return encoded['input_ids'].squeeze(), encoded['attention_mask'].squeeze(), label\n"
   ]
  },
  {
   "cell_type": "code",
   "execution_count": null,
   "id": "227922b6",
   "metadata": {},
   "outputs": [],
   "source": [
    "# Load and preprocess the data\n",
    "def load_data(file_path):\n",
    "    \"\"\"\n",
    "    Load data from a CSV file and preprocess it.\n",
    "    \"\"\"\n",
    "    df = pd.read_csv(file_path)\n",
    "    df = df.sample(frac=0.05, random_state=42)  # Randomly select 5% of the data\n",
    "    le = LabelEncoder()\n",
    "    df['label'] = le.fit_transform(df['label'])  # Encode labels\n",
    "    return df, le\n"
   ]
  },
  {
   "cell_type": "code",
   "execution_count": null,
   "id": "a52d2613",
   "metadata": {},
   "outputs": [],
   "source": [
    "# Create DataLoader objects for training and validation datasets\n",
    "def create_data_loaders(df, tokenizer, k, batch_size=8):\n",
    "    \"\"\"\n",
    "    Create DataLoader objects for training and validation datasets.\n",
    "    \"\"\"\n",
    "    train_df, val_df = train_test_split(df, test_size=0.2, random_state=42)\n",
    "    train_dataset = DNASequenceDataset(train_df['seq'].values, train_df['label'].values, tokenizer, k)\n",
    "    val_dataset = DNASequenceDataset(val_df['seq'].values, val_df['label'].values, tokenizer, k)\n",
    "    \n",
    "    train_loader = DataLoader(train_dataset, batch_size=batch_size, shuffle=True)\n",
    "    val_loader = DataLoader(val_dataset, batch_size=batch_size, shuffle=False)\n",
    "    \n",
    "    return train_loader, val_loader\n"
   ]
  },
  {
   "cell_type": "code",
   "execution_count": null,
   "id": "269baa61",
   "metadata": {},
   "outputs": [],
   "source": [
    "# Train the model\n",
    "def train_model(model, train_loader, val_loader, num_epochs=3, learning_rate=2e-5):\n",
    "    \"\"\"\n",
    "    Train the model with the specified training and validation data loaders.\n",
    "    \"\"\"\n",
    "    criterion = nn.CrossEntropyLoss()\n",
    "    optimizer = optim.AdamW(model.parameters(), lr=learning_rate)\n",
    "    \n",
    "    device = torch.device('cuda' if torch.cuda.is_available() else 'cpu')\n",
    "    model.to(device)\n",
    "\n",
    "    for epoch in range(num_epochs):\n",
    "        model.train()\n",
    "        total_loss = 0\n",
    "        \n",
    "        for input_ids, attention_mask, labels in train_loader:\n",
    "            input_ids, attention_mask, labels = input_ids.to(device), attention_mask.to(device), labels.to(device)\n",
    "\n",
    "            optimizer.zero_grad()\n",
    "            outputs = model(input_ids, attention_mask=attention_mask)\n",
    "            loss = criterion(outputs.logits, labels)\n",
    "            loss.backward()\n",
    "            optimizer.step()\n",
    "            total_loss += loss.item()\n",
    "\n",
    "        val_loss = 0\n",
    "        model.eval()\n",
    "        with torch.no_grad():\n",
    "            for input_ids, attention_mask, labels in val_loader:\n",
    "                input_ids, attention_mask, labels = input_ids.to(device), attention_mask.to(device), labels.to(device)\n",
    "                outputs = model(input_ids, attention_mask=attention_mask)\n",
    "                loss = criterion(outputs.logits, labels)\n",
    "                val_loss += loss.item()\n",
    "\n",
    "        print(f'Epoch {epoch+1}/{num_epochs}, Train Loss: {total_loss/len(train_loader):.4f}, Val Loss: {val_loss/len(val_loader):.4f}')\n"
   ]
  },
  {
   "cell_type": "code",
   "execution_count": null,
   "id": "a3ad065d",
   "metadata": {},
   "outputs": [],
   "source": [
    "# Load tokenizer\n",
    "tokenizer = BertTokenizer.from_pretrained(\"zhihan1996/DNA_bert_6\", do_lower_case=False)\n",
    "\n",
    "# Load and preprocess data\n",
    "df, label_encoder = load_data('updated_dna_sequences.csv')\n",
    "\n",
    "# Create data loaders\n",
    "train_loader, val_loader = create_data_loaders(df, tokenizer, k=6)\n",
    "\n",
    "# Define the model\n",
    "model = BertForSequenceClassification.from_pretrained(\"zhihan1996/DNA_bert_6\", num_labels=len(label_encoder.classes_))\n",
    "\n",
    "# Train the model\n",
    "train_model(model, train_loader, val_loader, num_epochs=3)\n"
   ]
  }
 ],
 "metadata": {
  "kernelspec": {
   "display_name": "Python 3 (ipykernel)",
   "language": "python",
   "name": "python3"
  },
  "language_info": {
   "codemirror_mode": {
    "name": "ipython",
    "version": 3
   },
   "file_extension": ".py",
   "mimetype": "text/x-python",
   "name": "python",
   "nbconvert_exporter": "python",
   "pygments_lexer": "ipython3",
   "version": "3.9.13"
  }
 },
 "nbformat": 4,
 "nbformat_minor": 5
}
